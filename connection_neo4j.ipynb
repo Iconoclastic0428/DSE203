{
 "cells": [
  {
   "cell_type": "markdown",
   "id": "8f4d601a-b040-4d0f-8f7c-2fc83b0a9082",
   "metadata": {},
   "source": [
    "# Test Connection to Neo4J Database"
   ]
  },
  {
   "cell_type": "code",
   "execution_count": null,
   "id": "f61c3a2f-567c-4da5-be06-309a36cdca55",
   "metadata": {},
   "outputs": [],
   "source": [
    "!pip install neo4j"
   ]
  },
  {
   "cell_type": "code",
   "execution_count": null,
   "id": "61c4e2a6-4c57-412a-bfcb-9731d3bf6785",
   "metadata": {},
   "outputs": [],
   "source": [
    "from neo4j import GraphDatabase\n",
    "\n",
    "# Connection details \n",
    "uri = \"bolt://awesome-compute.sdsc.edu:7687\" \n",
    "username = \"neo4j\" \n",
    "password = \"Vabv6YKC\"\n",
    "\n",
    "# Create a driver instance \n",
    "driver = GraphDatabase.driver(uri, auth=(username, password)) \n",
    "def test_connection():\n",
    "    \n",
    "    with driver.session() as session: \n",
    "        greeting = session.write_transaction(create_greeting) \n",
    "        print(greeting) \n",
    "        \n",
    "def create_greeting(tx): \n",
    "    result = tx.run(\"RETURN 'Hello, Neo4j!' AS greeting\") \n",
    "    return result.single()[\"greeting\"] \n",
    "\n",
    "        \n",
    "# Test the connection \n",
    "if __name__ == \"__main__\": \n",
    "    test_connection() \n",
    "    \n",
    "# Close the driver after use \n",
    "driver.close()"
   ]
  },
  {
   "cell_type": "code",
   "execution_count": null,
   "id": "b46b2117-bbcd-4595-94b0-56fa4abb5295",
   "metadata": {},
   "outputs": [],
   "source": []
  }
 ],
 "metadata": {
  "kernelspec": {
   "display_name": "Python 3 (ipykernel)",
   "language": "python",
   "name": "python3"
  },
  "language_info": {
   "codemirror_mode": {
    "name": "ipython",
    "version": 3
   },
   "file_extension": ".py",
   "mimetype": "text/x-python",
   "name": "python",
   "nbconvert_exporter": "python",
   "pygments_lexer": "ipython3",
   "version": "3.12.4"
  }
 },
 "nbformat": 4,
 "nbformat_minor": 5
}
